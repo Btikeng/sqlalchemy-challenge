{
 "metadata": {
  "language_info": {
   "codemirror_mode": {
    "name": "ipython",
    "version": 3
   },
   "file_extension": ".py",
   "mimetype": "text/x-python",
   "name": "python",
   "nbconvert_exporter": "python",
   "pygments_lexer": "ipython3",
   "version": 3
  },
  "orig_nbformat": 2
 },
 "nbformat": 4,
 "nbformat_minor": 2,
 "cells": [
  {
   "cell_type": "code",
   "execution_count": null,
   "metadata": {},
   "outputs": [],
   "source": [
    "%matplotlib inline\n",
    "from matplotlib import style\n",
    "style.use('fivethirtyeight')\n",
    "import matplotlib.pyplot as plt\n",
    "import numpy as np\n",
    "import pandas as pd\n",
    "import datetime as dt"
   ]
  },
  {
   "cell_type": "code",
   "execution_count": null,
   "metadata": {},
   "outputs": [],
   "source": [
    "# Python SQL toolkit and Object Relational Mapper\n",
    "import sqlalchemy\n",
    "from sqlalchemy.ext.automap import automap_base\n",
    "from sqlalchemy.orm import Session\n",
    "from sqlalchemy import create_engine, func"
   ]
  },
  {
   "cell_type": "code",
   "execution_count": null,
   "metadata": {},
   "outputs": [],
   "source": [
    "engine = create_engine(\"sqlite:///Resources/hawaii.sqlite\")"
   ]
  },
  {
   "cell_type": "code",
   "execution_count": null,
   "metadata": {},
   "outputs": [],
   "source": [
    "# Reflect an existing database into a new model\n",
    "Base = automap_base()\n",
    "\n",
    "# Reflect the tables\n",
    "Base.prepare(engine, reflect=True)"
   ]
  },
  {
   "cell_type": "code",
   "execution_count": null,
   "metadata": {},
   "outputs": [],
   "source": [
    "\n",
    "# View all of the classes that automap found\n",
    "Base.classes.keys()"
   ]
  },
  {
   "cell_type": "code",
   "execution_count": null,
   "metadata": {},
   "outputs": [],
   "source": [
    "\n",
    "# View all of the classes that automap found\n",
    "Base.classes.keys()"
   ]
  },
  {
   "cell_type": "code",
   "execution_count": null,
   "metadata": {},
   "outputs": [],
   "source": [
    "\n",
    "# View all of the classes that automap found\n",
    "Base.classes.keys()"
   ]
  },
  {
   "cell_type": "code",
   "execution_count": null,
   "metadata": {},
   "outputs": [],
   "source": [
    "\n",
    "# Design a query to retrieve the last 12 months of precipitation data and plot the results\n",
    "# Grab last date from selected date range\n",
    "last_date = session.query(Measurement.date, Measurement.prcp).order_by(Measurement.date.desc()).first()[0]\n",
    "\n",
    "# Convert object type\n",
    "entered_date = dt.datetime.strptime(last_date, '%Y-%m-%d')\n",
    "entered_date = entered_date.date()\n",
    "\n",
    "# Calculate the date 1 year ago from the last data point in the database\n",
    "yr_ago = entered_date - dt.timedelta(days=365)\n",
    "yr_ago\n",
    "\n",
    "# Perform a query to retrieve the data and precipitation scores\n",
    "one_year_prcp = session.query(Measurement.date, Measurement.prcp).filter(Measurement.date >= yr_ago).\\\n",
    "    filter(Measurement.date <= last_date).all()"
   ]
  },
  {
   "cell_type": "code",
   "execution_count": null,
   "metadata": {},
   "outputs": [],
   "source": [
    "\n",
    "# Save the query results as a Pandas DataFrame and set the index to the date column\n",
    "df = pd.DataFrame(one_year_prcp, columns=['date', 'prcp'])\n",
    "df.set_index('date', inplace=True)\n",
    "\n",
    "# Use Pandas Plotting with Matplotlib to plot the data\n",
    "df.plot()\n",
    "plt.xticks([])\n",
    "plt.savefig('Images/precipitation.png')\n",
    "plt.tight_layout()\n",
    "plt.show()"
   ]
  },
  {
   "cell_type": "code",
   "execution_count": null,
   "metadata": {},
   "outputs": [],
   "source": [
    "# Use Pandas to calcualte the summary statistics for the precipitation data\n",
    "df.describe()"
   ]
  },
  {
   "cell_type": "code",
   "execution_count": null,
   "metadata": {},
   "outputs": [],
   "source": [
    "# Query how many stations are available in this dataset\n",
    "station_ct = session.query(Measurement.station).distinct().count()\n",
    "print(\"Station Count:\", station_ct)"
   ]
  },
  {
   "cell_type": "code",
   "execution_count": null,
   "metadata": {},
   "outputs": [],
   "source": [
    "# List most active stations (stations with the most rows of data) in descending order.\n",
    "active_stations = session.query(Measurement.station, func.count(Measurement.station)).\\\n",
    "    group_by(Measurement.station).\\\n",
    "    order_by(func.count(Measurement.station).desc()).all()\n",
    "\n",
    "active_stations_df = pd.DataFrame(active_stations, columns=['Station', 'Data Count'])\n",
    "active_stations_df"
   ]
  },
  {
   "cell_type": "code",
   "execution_count": null,
   "metadata": {},
   "outputs": [],
   "source": [
    "# Using the station id from the previous query, calculate the lowest temperature recorded, \n",
    "# highest temperature recorded, and average temperature most active station\n",
    "most_active_station = active_stations[0][0]\n",
    "\n",
    "sel = [func.min(Measurement.tobs), func.avg(Measurement.tobs), func.max(Measurement.tobs)]\n",
    "\n",
    "most_active_station_tobs = session.query(*sel).\\\n",
    "    filter(Measurement.station==most_active_station).all()[0]\n",
    "\n",
    "print(f\"Temperature Minimum: {most_active_station_tobs[0]}\")\n",
    "print(f\"Temperature Average: {most_active_station_tobs[1]}\")\n",
    "print(f\"Temperature Maximum: {most_active_station_tobs[2]}\")"
   ]
  },
  {
   "cell_type": "code",
   "execution_count": null,
   "metadata": {},
   "outputs": [],
   "source": [
    "\n",
    "# Choose the station with the highest number of temperature observations.\n",
    "# Query the last 12 months of temperature observation data for this station and plot the results as a histogram\n",
    "stn_tobs = session.query(Measurement.tobs).\\\n",
    "    filter(Measurement.date >= yr_ago).\\\n",
    "    filter(Measurement.date <= last_date).\\\n",
    "    filter(Measurement.station==most_active_station).all()\n",
    "\n",
    "tobs_array = np.ravel(stn_tobs)\n",
    "tobs_series = pd.Series(tobs_array)\n",
    "\n",
    "tobs_series.plot.hist(bins=12)\n",
    "plt.title(\"Temperature Observations of Station USC00519281\")\n",
    "plt.savefig('Images/station-histogram.png')\n",
    "plt.show()"
   ]
  },
  {
   "cell_type": "code",
   "execution_count": null,
   "metadata": {},
   "outputs": [],
   "source": [
    "\n",
    "import scipy.stats as stats\n",
    "from random import sample"
   ]
  },
  {
   "cell_type": "code",
   "execution_count": null,
   "metadata": {},
   "outputs": [],
   "source": [
    "# Query average temperatures for June\n",
    "june_temps = session.query(Measurement.date, Measurement.station, func.avg(Measurement.tobs)).\\\n",
    "    filter(func.strftime(\"%m\", Measurement.date) == \"06\").\\\n",
    "    group_by(Measurement.station, Measurement.date).all()\n",
    "\n",
    "# Query average temperatures for December\n",
    "dec_temps = session.query(Measurement.date, Measurement.station, func.avg(Measurement.tobs)).\\\n",
    "    filter(func.strftime(\"%m\", Measurement.date) == \"12\").\\\n",
    "    group_by(Measurement.station, Measurement.date).all()"
   ]
  },
  {
   "cell_type": "code",
   "execution_count": null,
   "metadata": {},
   "outputs": [],
   "source": [
    "# Store temperatures for each month in lists\n",
    "june_temps = [i[2] for i in june_temps]\n",
    "dec_temps = [i[2] for i in dec_temps]\n",
    "\n",
    "# Check the length of samples\n",
    "print(len(june_temps))\n",
    "print(len(dec_temps))"
   ]
  },
  {
   "cell_type": "code",
   "execution_count": null,
   "metadata": {},
   "outputs": [],
   "source": [
    "\n",
    "# Match the 'june_temps' sample size to 'dec_temps'\n",
    "june_temps = sample(june_temps, len(dec_temps))\n",
    "\n",
    "# Perform paired t-test and retrieve p-value\n",
    "stats.ttest_rel(june_temps,dec_temps).pvalue"
   ]
  },
  {
   "cell_type": "code",
   "execution_count": null,
   "metadata": {},
   "outputs": [],
   "source": []
  },
  {
   "cell_type": "code",
   "execution_count": null,
   "metadata": {},
   "outputs": [],
   "source": [
    "# This function called `calc_temps` will accept start date and end date in the format '%Y-%m-%d' \n",
    "# and return the minimum, average, and maximum temperatures for that range of dates\n",
    "def calc_temps(start_date, end_date):\n",
    "    \"\"\"TMIN, TAVG, and TMAX for a list of dates.\n",
    "    \n",
    "    Args:\n",
    "        start_date (string): A date string in the format %Y-%m-%d\n",
    "        end_date (string): A date string in the format %Y-%m-%d\n",
    "        \n",
    "    Returns:\n",
    "        TMIN, TAVE, and TMAX\n",
    "    \"\"\"\n",
    "    \n",
    "    return session.query(func.min(Measurement.tobs), func.avg(Measurement.tobs), func.max(Measurement.tobs)).\\\n",
    "        filter(Measurement.date >= start_date).filter(Measurement.date <= end_date).all()"
   ]
  },
  {
   "cell_type": "code",
   "execution_count": null,
   "metadata": {},
   "outputs": [],
   "source": [
    "\n",
    "# Use function `calc_temps` to calculate the tmin, tavg, and tmax \n",
    "# for trip dates using the previous year's data for those same dates.\n",
    "temps = calc_temps('2017-06-10', '2017-06-25')[0]\n",
    "\n",
    "print(f\"Temperature Minimum: {temps[0]}\")\n",
    "print(f\"Temperature Average: {temps[1]}\")\n",
    "print(f\"Temperature Maxiumum: {temps[2]}\")"
   ]
  },
  {
   "cell_type": "code",
   "execution_count": null,
   "metadata": {},
   "outputs": [],
   "source": [
    "# Plot results from previous query as a bar chart with error bar. \n",
    "\n",
    "y = temps[1] # average temperature\n",
    "yerr = temps[2] - temps[0] # peak-to-peak (tmax-tmin) value as y error\n",
    "\n",
    "fig, ax = plt.subplots()\n",
    "ax.bar(1, y, yerr=yerr, align='center', alpha=0.5, capsize=5)\n",
    "ax.set_ylabel('Temperature (F)')\n",
    "ax.set_title('Average Temperature in Between June 10-25, 2017')\n",
    "ax.set_xlim(0,2)\n",
    "ax.set_xticks([])\n",
    "ax.set_ylim(0,100)\n",
    "plt.tight_layout()\n",
    "plt.savefig('Images/calc-temps.png')\n",
    "plt.show()\n"
   ]
  },
  {
   "cell_type": "code",
   "execution_count": null,
   "metadata": {},
   "outputs": [],
   "source": [
    "# Calculate the total amount of rainfall per weather station for trip dates using the previous year's matching dates.\n",
    "# Sort in descending order by precipitation amount, listing the station, name, latitude, longitude, and elevation\n",
    "start_dt = dt.datetime(2017, 6, 10)\n",
    "end_dt = dt.datetime(2017, 6, 25)\n",
    "\n",
    "sel = [Measurement.station, func.sum(Measurement.prcp), \n",
    "       Station.name, Station.latitude, Station.longitude, \n",
    "       Station.elevation]\n",
    "\n",
    "trip_dates_results = session.query(*sel).\\\n",
    "    filter(Measurement.station == Station.station).\\\n",
    "    filter(Measurement.date>=start_dt).\\\n",
    "    filter(Measurement.date<=end_dt).\\\n",
    "    group_by(Measurement.station).\\\n",
    "    order_by(func.sum(Measurement.prcp).desc()).all()\n",
    "\n",
    "trip_df = pd.DataFrame(trip_dates_results, columns=['station', 'prcp', 'name', 'latitude', 'longitude', 'elevation'])\n",
    "trip_df"
   ]
  },
  {
   "cell_type": "code",
   "execution_count": null,
   "metadata": {},
   "outputs": [],
   "source": []
  },
  {
   "cell_type": "code",
   "execution_count": null,
   "metadata": {},
   "outputs": [],
   "source": [
    "# Create a query that will calculate the daily normals \n",
    "# (i.e. the averages for tmin, tmax, and tavg for all historic data matching a specific month and day)\n",
    "# Example: daily_normals(\"01-01\")\n",
    "\n",
    "def daily_normals(date):\n",
    "    \"\"\"Daily Normals.\n",
    "    \n",
    "    Args:\n",
    "        date (str): A date string in the format '%m-%d'\n",
    "        \n",
    "    Returns:\n",
    "        A list of tuples containing the daily normals, tmin, tavg, and tmax\n",
    "    \n",
    "    \"\"\"\n",
    "    \n",
    "    sel = [func.min(Measurement.tobs), func.avg(Measurement.tobs), func.max(Measurement.tobs)]\n",
    "    return session.query(*sel).filter(func.strftime(\"%m-%d\", Measurement.date) == date).all()"
   ]
  },
  {
   "cell_type": "code",
   "execution_count": null,
   "metadata": {},
   "outputs": [],
   "source": [
    "\n",
    "# Calculate the daily normals for your trip push each tuple of calculations into a list called `normals`\n",
    "\n",
    "# Use the start and end date from above to create a range of dates\n",
    "trip_dates = pd.date_range(start_dt, end_dt)\n",
    "trip_dates = trip_dates.astype(str)\n",
    "\n",
    "# Strip off the year and save a list of %m-%d strings\n",
    "split_year = [x.split(\"-\", 1) for x in trip_dates]\n",
    "date_str = [x[1] for x in split_year]\n",
    "date_str\n",
    "\n",
    "# Loop through the list of %m-%d strings and calculate the normals for each date\n",
    "normals = [daily_normals(n) for n in date_str]"
   ]
  },
  {
   "cell_type": "code",
   "execution_count": null,
   "metadata": {},
   "outputs": [],
   "source": [
    "# Extracts tuples into lists\n",
    "tmin_list = []\n",
    "tavg_list = []\n",
    "tmax_list = []\n",
    "dn_list = []\n",
    "\n",
    "for n in normals: dn_list.append(n[0])\n",
    "\n",
    "for tmin, tavg, tmax in dn_list:\n",
    "    tmin_list.append(tmin)\n",
    "    tavg_list.append(tavg)\n",
    "    tmax_list.append(tmax)"
   ]
  },
  {
   "cell_type": "code",
   "execution_count": null,
   "metadata": {},
   "outputs": [],
   "source": [
    "# Load query results into a Pandas DataFrame with trip dates as index\n",
    "daily_norms_df = pd.DataFrame({\"TMIN\":tmin_list, \"TAVG\":tavg_list, \"TMAX\":tmax_list}, index=trip_dates)\n",
    "daily_norms_df"
   ]
  },
  {
   "cell_type": "code",
   "execution_count": null,
   "metadata": {},
   "outputs": [],
   "source": [
    "# Plot the daily normals as an area plot with `stacked=False`\n",
    "daily_norms_df.plot(kind='area', figsize=(8,6), stacked=False, alpha=0.25, rot=45)\n",
    "plt.savefig('Images/daily-norms.png')\n",
    "plt.tight_layout()\n",
    "plt.show()"
   ]
  },
  {
   "cell_type": "code",
   "execution_count": null,
   "metadata": {},
   "outputs": [],
   "source": []
  },
  {
   "cell_type": "code",
   "execution_count": null,
   "metadata": {},
   "outputs": [],
   "source": []
  }
 ]
}